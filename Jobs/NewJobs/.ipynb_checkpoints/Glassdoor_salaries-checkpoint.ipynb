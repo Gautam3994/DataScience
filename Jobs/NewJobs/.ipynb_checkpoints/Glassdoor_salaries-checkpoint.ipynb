{
 "cells": [
  {
   "cell_type": "code",
   "execution_count": 1,
   "metadata": {
    "scrolled": true
   },
   "outputs": [
    {
     "ename": "ModuleNotFoundError",
     "evalue": "No module named 'selenium'",
     "output_type": "error",
     "traceback": [
      "\u001b[1;31m---------------------------------------------------------------------------\u001b[0m",
      "\u001b[1;31mModuleNotFoundError\u001b[0m                       Traceback (most recent call last)",
      "\u001b[1;32m<ipython-input-1-39a50754d398>\u001b[0m in \u001b[0;36m<module>\u001b[1;34m\u001b[0m\n\u001b[1;32m----> 1\u001b[1;33m \u001b[1;32mfrom\u001b[0m \u001b[0mselenium\u001b[0m\u001b[1;33m.\u001b[0m\u001b[0mcommon\u001b[0m\u001b[1;33m.\u001b[0m\u001b[0mexceptions\u001b[0m \u001b[1;32mimport\u001b[0m \u001b[0mNoSuchElementException\u001b[0m\u001b[1;33m,\u001b[0m \u001b[0mElementClickInterceptedException\u001b[0m\u001b[1;33m\u001b[0m\u001b[1;33m\u001b[0m\u001b[0m\n\u001b[0m\u001b[0;32m      2\u001b[0m \u001b[1;32mfrom\u001b[0m \u001b[0mselenium\u001b[0m\u001b[1;33m.\u001b[0m\u001b[0mwebdriver\u001b[0m\u001b[1;33m.\u001b[0m\u001b[0mchrome\u001b[0m\u001b[1;33m.\u001b[0m\u001b[0moptions\u001b[0m \u001b[1;32mimport\u001b[0m \u001b[0mOptions\u001b[0m\u001b[1;33m\u001b[0m\u001b[1;33m\u001b[0m\u001b[0m\n\u001b[0;32m      3\u001b[0m \u001b[1;32mfrom\u001b[0m \u001b[0mselenium\u001b[0m \u001b[1;32mimport\u001b[0m \u001b[0mwebdriver\u001b[0m\u001b[1;33m\u001b[0m\u001b[1;33m\u001b[0m\u001b[0m\n\u001b[0;32m      4\u001b[0m \u001b[1;32mfrom\u001b[0m \u001b[0mselenium\u001b[0m\u001b[1;33m.\u001b[0m\u001b[0mwebdriver\u001b[0m\u001b[1;33m.\u001b[0m\u001b[0mcommon\u001b[0m\u001b[1;33m.\u001b[0m\u001b[0mkeys\u001b[0m \u001b[1;32mimport\u001b[0m \u001b[0mKeys\u001b[0m\u001b[1;33m\u001b[0m\u001b[1;33m\u001b[0m\u001b[0m\n\u001b[0;32m      5\u001b[0m \u001b[1;32mimport\u001b[0m \u001b[0mtime\u001b[0m\u001b[1;33m\u001b[0m\u001b[1;33m\u001b[0m\u001b[0m\n",
      "\u001b[1;31mModuleNotFoundError\u001b[0m: No module named 'selenium'"
     ]
    }
   ],
   "source": [
    "from selenium.common.exceptions import NoSuchElementException, ElementClickInterceptedException\n",
    "from selenium.webdriver.chrome.options import Options\n",
    "from selenium import webdriver\n",
    "from selenium.webdriver.common.keys import Keys\n",
    "import time\n",
    "import pandas as pd\n",
    "\n",
    "def get_salaries(num_jobs, slp_time):\n",
    "    \n",
    "    chromeOptions = Options()\n",
    "    chromeOptions.add_argument(\"--kiosk\")\n",
    "    chromeOptions.add_argument(\"--incognito\")\n",
    "    driver = webdriver.Chrome(options=chromeOptions)\n",
    "    \n",
    "    url = \"https://www.glassdoor.co.in/Salaries/india-data-scientist-salary-SRCH_IL.0,5_IN115_KO6,20.htm\"\n",
    "    driver.get(url)\n",
    "    salaries = []\n",
    "    \n",
    "    while len(salaries) < num_jobs:\n",
    "        \n",
    "        time.sleep(slp_time)\n",
    "        \n",
    "        try:\n",
    "            driver.find_element_by_xpath(\".//a[@data-test='signInLink']\").click()\n",
    "            time.sleep(slp_time)\n",
    "            driver.find_element_by_id(\"userEmail\").send_keys(\"restartcareer10@gmail.com\")\n",
    "            time.sleep(1)\n",
    "            driver.find_element_by_id(\"userPassword\").send_keys(\"@Madaafhm7\")\n",
    "            time.sleep(1)\n",
    "            driver.find_element_by_xpath(\".//button[@class='gd-ui-button minWidthBtn css-8i7bc2']\").click()\n",
    "            time.sleep(slp_time)\n",
    "        except:\n",
    "            pass\n",
    "        \n",
    "        try:\n",
    "            driver.find_element_by_css_selector('[alt=\"Close\"]').click() #clicking to the X.\n",
    "        except:\n",
    "            pass\n",
    "        \n",
    "        salary_details = driver.find_elements_by_xpath(\".//div[@data-test='salary-list-items']\")\n",
    "            \n",
    "        for salary_detail in salary_details:\n",
    "#             time.sleep(slp_time)\n",
    "            details = {}\n",
    "            \n",
    "            try:\n",
    "                company = salary_detail.find_element_by_xpath(\".//div[@data-test='job-info']//p[@class='m-0']//following-sibling::*\").text\n",
    "            except NoSuchElementException:\n",
    "                company = -1\n",
    "                \n",
    "            try:\n",
    "                no_of_salaries = salary_detail.find_element_by_xpath(\".//p[@class='css-1uyte9r css-1kuy7z7 m-0']\").text\n",
    "            except NoSuchElementException:\n",
    "                no_of_salaries = -1\n",
    "            \n",
    "\n",
    "            try:\n",
    "                avg_salary = salary_detail.find_element_by_xpath(\".//div[@class='col-2 d-none d-md-flex flex-row justify-content-end']\").text\n",
    "            except NoSuchElementException:\n",
    "                avg_salary = -1\n",
    "                \n",
    "            try:\n",
    "                estimated_salary =  salary_detail.find_element_by_class_name('common__flex__container')\n",
    "            except NoSuchElementException:\n",
    "                estimated_salary = -1\n",
    "            \n",
    "            try: \n",
    "                min_salary = estimated_salary.find_element_by_xpath('.//span').text\n",
    "            except NoSuchElementException:\n",
    "                min_salary = -1\n",
    "            \n",
    "            try: \n",
    "                max_salary = estimated_salary.find_element_by_css_selector('span:nth-child(2)').text\n",
    "            except NoSuchElementException:\n",
    "                max_salary = -1\n",
    "            \n",
    "           \n",
    "                \n",
    "            details['company'] = company\n",
    "            try:\n",
    "                details['no_of_salaries'] = no_of_salaries.split(\" \")[0]\n",
    "            except:\n",
    "                details['no_of_salaries'] = no_of_salaries\n",
    "            try:\n",
    "                details['avg_salary'] = avg_salary.replace(\"\\n\", \"\")\n",
    "            except:\n",
    "                details['avg_salary'] = avg_salary\n",
    "            details['min_salary'] = min_salary\n",
    "            details['max_salary'] = max_salary\n",
    "            salaries.append(details)\n",
    "        \n",
    "#         time.sleep(10)\n",
    "        \n",
    "        try:\n",
    "            driver.find_element_by_xpath('.//li[@class=\"pagination__PaginationStyle__next\"]//a').click()\n",
    "        except NoSuchElementException:\n",
    "            print(\"Scraping terminated before reaching target number of jobs. Needed {}, got {}.\".format(num_jobs, len(jobs)))\n",
    "            break\n",
    "            \n",
    "    for salary in salaries:\n",
    "        print(str(salary))\n",
    "    driver.quit()\n",
    "    return pd.DataFrame(salaries)\n",
    "    \n",
    "df = get_salaries(1000, 5)\n",
    "df.to_csv('glassdoor_salaries.csv', index= False)"
   ]
  },
  {
   "cell_type": "code",
   "execution_count": 9,
   "metadata": {},
   "outputs": [
    {
     "name": "stdout",
     "output_type": "stream",
     "text": [
      "Requirement already satisfied: selenium in c:\\users\\gautam\\anaconda3\\envs\\anaconda3\\lib\\site-packages (3.141.0)\n",
      "Requirement already satisfied: urllib3 in c:\\users\\gautam\\anaconda3\\envs\\anaconda3\\lib\\site-packages (from selenium) (1.25.11)\n"
     ]
    }
   ],
   "source": [
    "!pip3 install selenium"
   ]
  }
 ],
 "metadata": {
  "kernelspec": {
   "display_name": "Python 3",
   "language": "python",
   "name": "python3"
  },
  "language_info": {
   "codemirror_mode": {
    "name": "ipython",
    "version": 3
   },
   "file_extension": ".py",
   "mimetype": "text/x-python",
   "name": "python",
   "nbconvert_exporter": "python",
   "pygments_lexer": "ipython3",
   "version": "3.8.3"
  }
 },
 "nbformat": 4,
 "nbformat_minor": 4
}
